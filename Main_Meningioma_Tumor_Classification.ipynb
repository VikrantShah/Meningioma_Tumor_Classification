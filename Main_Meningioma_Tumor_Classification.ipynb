{
 "cells": [
  {
   "cell_type": "markdown",
   "metadata": {},
   "source": [
    "# Importing the Libraries"
   ]
  },
  {
   "cell_type": "code",
   "execution_count": 1,
   "metadata": {},
   "outputs": [],
   "source": [
    "from tensorflow import keras\n",
    "from tensorflow.keras.preprocessing.image import ImageDataGenerator\n",
    "from tensorflow.keras.models import Sequential\n",
    "from tensorflow.keras.layers import Conv2D\n",
    "from tensorflow.keras.layers import MaxPooling2D\n",
    "from tensorflow.keras.layers import Flatten\n",
    "from tensorflow.keras.layers import Dense\n",
    "from tensorflow.keras.callbacks import EarlyStopping\n",
    "from tensorflow.keras.callbacks import ModelCheckpoint\n",
    "import matplotlib.pyplot as plt"
   ]
  },
  {
   "cell_type": "markdown",
   "metadata": {},
   "source": [
    "# Getting and loading the Training, Testing and Validation set"
   ]
  },
  {
   "cell_type": "code",
   "execution_count": 2,
   "metadata": {},
   "outputs": [],
   "source": [
    "train_path = r\"C:\\AI-DocHelper_Models_Code\\Meningioma_Tumor_Classification\\dataset\\train\"\n",
    "validation_path = r\"C:\\AI-DocHelper_Models_Code\\Meningioma_Tumor_Classification\\dataset\\val\"\n",
    "test_path = r\"C:\\AI-DocHelper_Models_Code\\Meningioma_Tumor_Classification\\dataset\\test\""
   ]
  },
  {
   "cell_type": "code",
   "execution_count": 3,
   "metadata": {},
   "outputs": [],
   "source": [
    "batch_size = 16\n",
    "img_size = (256, 256)"
   ]
  },
  {
   "cell_type": "code",
   "execution_count": 4,
   "metadata": {},
   "outputs": [],
   "source": [
    "train_datagen = ImageDataGenerator(rescale = 1./255,\n",
    "                                  rotation_range = 40.,\n",
    "                                  width_shift_range = 0.2,\n",
    "                                  height_shift_range = 0.2,\n",
    "                                  shear_range = 0.2,\n",
    "                                  zoom_range = 0.2,\n",
    "                                  horizontal_flip = True)\n",
    "\n",
    "validation_datagen = ImageDataGenerator(rescale = 1./255)"
   ]
  },
  {
   "cell_type": "code",
   "execution_count": 5,
   "metadata": {},
   "outputs": [
    {
     "name": "stdout",
     "output_type": "stream",
     "text": [
      "Found 1077 images belonging to 2 classes.\n",
      "Found 359 images belonging to 2 classes.\n",
      "Found 1 images belonging to 2 classes.\n"
     ]
    }
   ],
   "source": [
    "train_generator = train_datagen.flow_from_directory(train_path,\n",
    "                                                   target_size = img_size,\n",
    "                                                   batch_size = batch_size,\n",
    "                                                    color_mode = \"grayscale\",\n",
    "                                                   class_mode = \"binary\")\n",
    "\n",
    "validation_generator = validation_datagen.flow_from_directory(validation_path,\n",
    "                                                             target_size = img_size,\n",
    "                                                             batch_size = batch_size,\n",
    "                                                              color_mode = \"grayscale\",\n",
    "                                                             class_mode = \"binary\")\n",
    "\n",
    "test_generator = validation_datagen.flow_from_directory(test_path,\n",
    "                                                       target_size = img_size,\n",
    "                                                       batch_size = batch_size,\n",
    "                                                       color_mode = \"grayscale\",\n",
    "                                                       class_mode = \"binary\",\n",
    "                                                       shuffle = False)"
   ]
  },
  {
   "cell_type": "markdown",
   "metadata": {},
   "source": [
    "# Getting the class names"
   ]
  },
  {
   "cell_type": "code",
   "execution_count": 6,
   "metadata": {},
   "outputs": [
    {
     "name": "stdout",
     "output_type": "stream",
     "text": [
      "{0: 'meningioma_tumor', 1: 'no_tumor'}\n"
     ]
    }
   ],
   "source": [
    "temp_classes = dict(train_generator.class_indices)\n",
    "\n",
    "classes = dict()\n",
    "for (k, v) in temp_classes.items() :\n",
    "    classes[v] = k\n",
    "print(classes)"
   ]
  },
  {
   "cell_type": "markdown",
   "metadata": {},
   "source": [
    "# Building the CNN"
   ]
  },
  {
   "cell_type": "markdown",
   "metadata": {},
   "source": [
    "## Initalising the CNN"
   ]
  },
  {
   "cell_type": "code",
   "execution_count": 7,
   "metadata": {},
   "outputs": [],
   "source": [
    "model = Sequential()"
   ]
  },
  {
   "cell_type": "markdown",
   "metadata": {},
   "source": [
    "# Adding the layers"
   ]
  },
  {
   "cell_type": "markdown",
   "metadata": {},
   "source": [
    "## Adding the First Convolutional and Pooling layers"
   ]
  },
  {
   "cell_type": "code",
   "execution_count": 8,
   "metadata": {},
   "outputs": [],
   "source": [
    "model.add(Conv2D(32, (3, 3), input_shape = (img_size[0], img_size[1], 1), activation = \"relu\"))\n",
    "model.add(MaxPooling2D(pool_size = (2, 2)))"
   ]
  },
  {
   "cell_type": "markdown",
   "metadata": {},
   "source": [
    "## Adding the Second Convolutional and Pooling layers"
   ]
  },
  {
   "cell_type": "code",
   "execution_count": 9,
   "metadata": {},
   "outputs": [],
   "source": [
    "model.add(Conv2D(32, (3, 3), input_shape = (img_size[0], img_size[1], 1), activation = \"relu\"))\n",
    "model.add(MaxPooling2D(pool_size = (2, 2)))"
   ]
  },
  {
   "cell_type": "markdown",
   "metadata": {},
   "source": [
    "## Adding the Third Convolutional and Pooling layers"
   ]
  },
  {
   "cell_type": "code",
   "execution_count": 10,
   "metadata": {},
   "outputs": [],
   "source": [
    "model.add(Conv2D(64, (3, 3), input_shape = (img_size[0], img_size[1], 1), activation = \"relu\"))\n",
    "model.add(MaxPooling2D(pool_size = (2, 2)))"
   ]
  },
  {
   "cell_type": "markdown",
   "metadata": {},
   "source": [
    "## Adding the Forth Convolutional and Pooling layers"
   ]
  },
  {
   "cell_type": "code",
   "execution_count": 11,
   "metadata": {},
   "outputs": [],
   "source": [
    "model.add(Conv2D(64, (3, 3), input_shape = (img_size[0], img_size[1], 1), activation = \"relu\"))\n",
    "model.add(MaxPooling2D(pool_size = (2, 2)))"
   ]
  },
  {
   "cell_type": "markdown",
   "metadata": {},
   "source": [
    "## Adding the Fifth Convolutional and Pooling layers"
   ]
  },
  {
   "cell_type": "code",
   "execution_count": 12,
   "metadata": {},
   "outputs": [],
   "source": [
    "model.add(Conv2D(128, (3, 3), input_shape = (img_size[0], img_size[1], 1), activation = \"relu\"))\n",
    "model.add(MaxPooling2D(pool_size = (2, 2)))"
   ]
  },
  {
   "cell_type": "markdown",
   "metadata": {},
   "source": [
    "## Adding the Sixth Convolutional and Pooling layers"
   ]
  },
  {
   "cell_type": "code",
   "execution_count": 13,
   "metadata": {},
   "outputs": [],
   "source": [
    "model.add(Conv2D(128, (3, 3), input_shape = (img_size[0], img_size[1], 1), activation = \"relu\"))\n",
    "model.add(MaxPooling2D(pool_size = (2, 2)))"
   ]
  },
  {
   "cell_type": "markdown",
   "metadata": {},
   "source": [
    "# Flattening all the layers"
   ]
  },
  {
   "cell_type": "code",
   "execution_count": 14,
   "metadata": {},
   "outputs": [],
   "source": [
    "model.add(Flatten())"
   ]
  },
  {
   "cell_type": "markdown",
   "metadata": {},
   "source": [
    "## Adding the First Fully Connected Layer"
   ]
  },
  {
   "cell_type": "code",
   "execution_count": 15,
   "metadata": {},
   "outputs": [],
   "source": [
    "model.add(Dense(units = 128, activation = \"relu\"))"
   ]
  },
  {
   "cell_type": "markdown",
   "metadata": {},
   "source": [
    "## Adding the Second Fully Connected Layer"
   ]
  },
  {
   "cell_type": "code",
   "execution_count": 16,
   "metadata": {},
   "outputs": [],
   "source": [
    "model.add(Dense(units = 64, activation = \"relu\"))"
   ]
  },
  {
   "cell_type": "markdown",
   "metadata": {},
   "source": [
    "## Adding the Third Fully Connected Layer"
   ]
  },
  {
   "cell_type": "code",
   "execution_count": 17,
   "metadata": {},
   "outputs": [],
   "source": [
    "model.add(Dense(units = 32, activation = \"relu\"))"
   ]
  },
  {
   "cell_type": "markdown",
   "metadata": {},
   "source": [
    "## Adding the Final Fully Connected Layer"
   ]
  },
  {
   "cell_type": "code",
   "execution_count": 18,
   "metadata": {},
   "outputs": [],
   "source": [
    "model.add(Dense(units = 1, activation = \"sigmoid\"))"
   ]
  },
  {
   "cell_type": "markdown",
   "metadata": {},
   "source": [
    "## Displaying the model summary"
   ]
  },
  {
   "cell_type": "code",
   "execution_count": 19,
   "metadata": {},
   "outputs": [
    {
     "name": "stdout",
     "output_type": "stream",
     "text": [
      "Model: \"sequential\"\n",
      "_________________________________________________________________\n",
      "Layer (type)                 Output Shape              Param #   \n",
      "=================================================================\n",
      "conv2d (Conv2D)              (None, 254, 254, 32)      320       \n",
      "_________________________________________________________________\n",
      "max_pooling2d (MaxPooling2D) (None, 127, 127, 32)      0         \n",
      "_________________________________________________________________\n",
      "conv2d_1 (Conv2D)            (None, 125, 125, 32)      9248      \n",
      "_________________________________________________________________\n",
      "max_pooling2d_1 (MaxPooling2 (None, 62, 62, 32)        0         \n",
      "_________________________________________________________________\n",
      "conv2d_2 (Conv2D)            (None, 60, 60, 64)        18496     \n",
      "_________________________________________________________________\n",
      "max_pooling2d_2 (MaxPooling2 (None, 30, 30, 64)        0         \n",
      "_________________________________________________________________\n",
      "conv2d_3 (Conv2D)            (None, 28, 28, 64)        36928     \n",
      "_________________________________________________________________\n",
      "max_pooling2d_3 (MaxPooling2 (None, 14, 14, 64)        0         \n",
      "_________________________________________________________________\n",
      "conv2d_4 (Conv2D)            (None, 12, 12, 128)       73856     \n",
      "_________________________________________________________________\n",
      "max_pooling2d_4 (MaxPooling2 (None, 6, 6, 128)         0         \n",
      "_________________________________________________________________\n",
      "conv2d_5 (Conv2D)            (None, 4, 4, 128)         147584    \n",
      "_________________________________________________________________\n",
      "max_pooling2d_5 (MaxPooling2 (None, 2, 2, 128)         0         \n",
      "_________________________________________________________________\n",
      "flatten (Flatten)            (None, 512)               0         \n",
      "_________________________________________________________________\n",
      "dense (Dense)                (None, 128)               65664     \n",
      "_________________________________________________________________\n",
      "dense_1 (Dense)              (None, 64)                8256      \n",
      "_________________________________________________________________\n",
      "dense_2 (Dense)              (None, 32)                2080      \n",
      "_________________________________________________________________\n",
      "dense_3 (Dense)              (None, 1)                 33        \n",
      "=================================================================\n",
      "Total params: 362,465\n",
      "Trainable params: 362,465\n",
      "Non-trainable params: 0\n",
      "_________________________________________________________________\n"
     ]
    }
   ],
   "source": [
    "model.summary()"
   ]
  },
  {
   "cell_type": "markdown",
   "metadata": {},
   "source": [
    "## Compiling the CNN model"
   ]
  },
  {
   "cell_type": "code",
   "execution_count": 20,
   "metadata": {},
   "outputs": [],
   "source": [
    "model.compile(optimizer = \"adam\",\n",
    "             loss = \"binary_crossentropy\", \n",
    "             metrics = [\"accuracy\"])"
   ]
  },
  {
   "cell_type": "markdown",
   "metadata": {},
   "source": [
    "# Training the CNN"
   ]
  },
  {
   "cell_type": "markdown",
   "metadata": {},
   "source": [
    "## Saving the Best model only"
   ]
  },
  {
   "cell_type": "code",
   "execution_count": 21,
   "metadata": {},
   "outputs": [],
   "source": [
    "checkpoint = ModelCheckpoint(filepath = \"meningioma_tumor.h5\",\n",
    "                            save_best_only = True)"
   ]
  },
  {
   "cell_type": "markdown",
   "metadata": {},
   "source": [
    "## Stopping the Training, if there is no improvement"
   ]
  },
  {
   "cell_type": "code",
   "execution_count": 22,
   "metadata": {},
   "outputs": [],
   "source": [
    "earlyStopping = EarlyStopping(monitor=\"val_loss\", \n",
    "                              patience = 15,\n",
    "                             restore_best_weights = True,\n",
    "                             verbose = 1)"
   ]
  },
  {
   "cell_type": "markdown",
   "metadata": {},
   "source": [
    "## Calculating the steps_per_epoch and validation_steps"
   ]
  },
  {
   "cell_type": "code",
   "execution_count": 23,
   "metadata": {},
   "outputs": [
    {
     "name": "stdout",
     "output_type": "stream",
     "text": [
      "68\n",
      "23\n"
     ]
    }
   ],
   "source": [
    "import math\n",
    "\n",
    "batch_size = batch_size\n",
    "training_size = 1077\n",
    "validation_size = 359\n",
    "\n",
    "compute_steps_per_epoch = lambda x : int(math.ceil(1. * x / batch_size))\n",
    "\n",
    "steps_per_epoch = compute_steps_per_epoch(training_size)\n",
    "validation_steps = compute_steps_per_epoch(validation_size)\n",
    "\n",
    "print(steps_per_epoch)\n",
    "print(validation_steps)"
   ]
  },
  {
   "cell_type": "code",
   "execution_count": 24,
   "metadata": {},
   "outputs": [
    {
     "name": "stdout",
     "output_type": "stream",
     "text": [
      "Epoch 1/50\n"
     ]
    },
    {
     "name": "stderr",
     "output_type": "stream",
     "text": [
      "C:\\Users\\RAJ SHAH\\anaconda3\\lib\\site-packages\\tensorflow\\python\\keras\\engine\\training.py:1844: UserWarning: `Model.fit_generator` is deprecated and will be removed in a future version. Please use `Model.fit`, which supports generators.\n",
      "  warnings.warn('`Model.fit_generator` is deprecated and '\n"
     ]
    },
    {
     "name": "stdout",
     "output_type": "stream",
     "text": [
      "68/68 [==============================] - 33s 469ms/step - loss: 0.6764 - accuracy: 0.5908 - val_loss: 0.5331 - val_accuracy: 0.6518\n",
      "Epoch 2/50\n",
      "68/68 [==============================] - 31s 453ms/step - loss: 0.5742 - accuracy: 0.6481 - val_loss: 0.4825 - val_accuracy: 0.7827\n",
      "Epoch 3/50\n",
      "68/68 [==============================] - 36s 524ms/step - loss: 0.5017 - accuracy: 0.7481 - val_loss: 0.4702 - val_accuracy: 0.7632\n",
      "Epoch 4/50\n",
      "68/68 [==============================] - 35s 519ms/step - loss: 0.5218 - accuracy: 0.7648 - val_loss: 0.5125 - val_accuracy: 0.8050\n",
      "Epoch 5/50\n",
      "68/68 [==============================] - 35s 520ms/step - loss: 0.4742 - accuracy: 0.7649 - val_loss: 0.4311 - val_accuracy: 0.8078\n",
      "Epoch 6/50\n",
      "68/68 [==============================] - 35s 519ms/step - loss: 0.4788 - accuracy: 0.7530 - val_loss: 0.4297 - val_accuracy: 0.7939\n",
      "Epoch 7/50\n",
      "68/68 [==============================] - 36s 524ms/step - loss: 0.4614 - accuracy: 0.7722 - val_loss: 0.5270 - val_accuracy: 0.8162\n",
      "Epoch 8/50\n",
      "68/68 [==============================] - 35s 519ms/step - loss: 0.4430 - accuracy: 0.7951 - val_loss: 0.5444 - val_accuracy: 0.7103\n",
      "Epoch 9/50\n",
      "68/68 [==============================] - 36s 520ms/step - loss: 0.4511 - accuracy: 0.7884 - val_loss: 0.4332 - val_accuracy: 0.8329\n",
      "Epoch 10/50\n",
      "68/68 [==============================] - 36s 524ms/step - loss: 0.4082 - accuracy: 0.8012 - val_loss: 0.4903 - val_accuracy: 0.7772\n",
      "Epoch 11/50\n",
      "68/68 [==============================] - 35s 517ms/step - loss: 0.4790 - accuracy: 0.7808 - val_loss: 0.4183 - val_accuracy: 0.8106\n",
      "Epoch 12/50\n",
      "68/68 [==============================] - 36s 522ms/step - loss: 0.3897 - accuracy: 0.8129 - val_loss: 0.4600 - val_accuracy: 0.7827\n",
      "Epoch 13/50\n",
      "68/68 [==============================] - 35s 520ms/step - loss: 0.4322 - accuracy: 0.7892 - val_loss: 0.4082 - val_accuracy: 0.8329\n",
      "Epoch 14/50\n",
      "68/68 [==============================] - 36s 522ms/step - loss: 0.3793 - accuracy: 0.8073 - val_loss: 0.4214 - val_accuracy: 0.8106\n",
      "Epoch 15/50\n",
      "68/68 [==============================] - 36s 525ms/step - loss: 0.4198 - accuracy: 0.7975 - val_loss: 0.4887 - val_accuracy: 0.8217\n",
      "Epoch 16/50\n",
      "68/68 [==============================] - 36s 532ms/step - loss: 0.3659 - accuracy: 0.8114 - val_loss: 0.4347 - val_accuracy: 0.8245\n",
      "Epoch 17/50\n",
      "68/68 [==============================] - 36s 533ms/step - loss: 0.3683 - accuracy: 0.8272 - val_loss: 0.7124 - val_accuracy: 0.6908\n",
      "Epoch 18/50\n",
      "68/68 [==============================] - 36s 522ms/step - loss: 0.3681 - accuracy: 0.8269 - val_loss: 0.3697 - val_accuracy: 0.8384\n",
      "Epoch 19/50\n",
      "68/68 [==============================] - 36s 522ms/step - loss: 0.3576 - accuracy: 0.8388 - val_loss: 0.4862 - val_accuracy: 0.7298\n",
      "Epoch 20/50\n",
      "68/68 [==============================] - 35s 520ms/step - loss: 0.3706 - accuracy: 0.8178 - val_loss: 0.3617 - val_accuracy: 0.8552\n",
      "Epoch 21/50\n",
      "68/68 [==============================] - 35s 519ms/step - loss: 0.3136 - accuracy: 0.8472 - val_loss: 0.3626 - val_accuracy: 0.8774\n",
      "Epoch 22/50\n",
      "68/68 [==============================] - 35s 520ms/step - loss: 0.3392 - accuracy: 0.8321 - val_loss: 0.4149 - val_accuracy: 0.8329\n",
      "Epoch 23/50\n",
      "68/68 [==============================] - 35s 520ms/step - loss: 0.3211 - accuracy: 0.8459 - val_loss: 0.3806 - val_accuracy: 0.8524\n",
      "Epoch 24/50\n",
      "68/68 [==============================] - 35s 524ms/step - loss: 0.3206 - accuracy: 0.8522 - val_loss: 0.3477 - val_accuracy: 0.8774\n",
      "Epoch 25/50\n",
      "68/68 [==============================] - 37s 540ms/step - loss: 0.2839 - accuracy: 0.8683 - val_loss: 0.3485 - val_accuracy: 0.8747\n",
      "Epoch 26/50\n",
      "68/68 [==============================] - 37s 535ms/step - loss: 0.3261 - accuracy: 0.8449 - val_loss: 0.3754 - val_accuracy: 0.8774\n",
      "Epoch 27/50\n",
      "68/68 [==============================] - 37s 545ms/step - loss: 0.3200 - accuracy: 0.8692 - val_loss: 0.3274 - val_accuracy: 0.8691\n",
      "Epoch 28/50\n",
      "68/68 [==============================] - 38s 551ms/step - loss: 0.2790 - accuracy: 0.8762 - val_loss: 0.3032 - val_accuracy: 0.8802\n",
      "Epoch 29/50\n",
      "68/68 [==============================] - 38s 554ms/step - loss: 0.3209 - accuracy: 0.8532 - val_loss: 0.3342 - val_accuracy: 0.8524\n",
      "Epoch 30/50\n",
      "68/68 [==============================] - 38s 551ms/step - loss: 0.2834 - accuracy: 0.8658 - val_loss: 0.3245 - val_accuracy: 0.8635\n",
      "Epoch 31/50\n",
      "68/68 [==============================] - 36s 531ms/step - loss: 0.2907 - accuracy: 0.8654 - val_loss: 0.3467 - val_accuracy: 0.8468\n",
      "Epoch 32/50\n",
      "68/68 [==============================] - 36s 525ms/step - loss: 0.2622 - accuracy: 0.8806 - val_loss: 0.3422 - val_accuracy: 0.8468\n",
      "Epoch 33/50\n",
      "68/68 [==============================] - 36s 525ms/step - loss: 0.2631 - accuracy: 0.8903 - val_loss: 0.2905 - val_accuracy: 0.8802\n",
      "Epoch 34/50\n",
      "68/68 [==============================] - 36s 524ms/step - loss: 0.2806 - accuracy: 0.8797 - val_loss: 0.3594 - val_accuracy: 0.8719\n",
      "Epoch 35/50\n",
      "68/68 [==============================] - 36s 530ms/step - loss: 0.2811 - accuracy: 0.8593 - val_loss: 0.3628 - val_accuracy: 0.8579\n",
      "Epoch 36/50\n",
      "68/68 [==============================] - 36s 525ms/step - loss: 0.2574 - accuracy: 0.8771 - val_loss: 0.3063 - val_accuracy: 0.8886\n",
      "Epoch 37/50\n",
      "68/68 [==============================] - 36s 534ms/step - loss: 0.2454 - accuracy: 0.8863 - val_loss: 0.3498 - val_accuracy: 0.8329\n",
      "Epoch 38/50\n",
      "68/68 [==============================] - 35s 519ms/step - loss: 0.2561 - accuracy: 0.8972 - val_loss: 0.2809 - val_accuracy: 0.9109\n",
      "Epoch 39/50\n",
      "68/68 [==============================] - 35s 517ms/step - loss: 0.2551 - accuracy: 0.9104 - val_loss: 0.2928 - val_accuracy: 0.8997\n",
      "Epoch 40/50\n",
      "68/68 [==============================] - 35s 515ms/step - loss: 0.2656 - accuracy: 0.8824 - val_loss: 0.3382 - val_accuracy: 0.8830\n",
      "Epoch 41/50\n",
      "68/68 [==============================] - 35s 518ms/step - loss: 0.2493 - accuracy: 0.9014 - val_loss: 0.2501 - val_accuracy: 0.9025\n",
      "Epoch 42/50\n",
      "68/68 [==============================] - 35s 518ms/step - loss: 0.2278 - accuracy: 0.9104 - val_loss: 0.2532 - val_accuracy: 0.9109\n",
      "Epoch 43/50\n",
      "68/68 [==============================] - 38s 553ms/step - loss: 0.2354 - accuracy: 0.8997 - val_loss: 0.2683 - val_accuracy: 0.9053\n",
      "Epoch 44/50\n",
      "68/68 [==============================] - 37s 544ms/step - loss: 0.2636 - accuracy: 0.8897 - val_loss: 0.2618 - val_accuracy: 0.8774\n",
      "Epoch 45/50\n",
      "68/68 [==============================] - 38s 553ms/step - loss: 0.2355 - accuracy: 0.8934 - val_loss: 0.3191 - val_accuracy: 0.8747\n",
      "Epoch 46/50\n",
      "68/68 [==============================] - 37s 541ms/step - loss: 0.2720 - accuracy: 0.8889 - val_loss: 0.2711 - val_accuracy: 0.8942\n",
      "Epoch 47/50\n",
      "68/68 [==============================] - 37s 547ms/step - loss: 0.2166 - accuracy: 0.9166 - val_loss: 0.2790 - val_accuracy: 0.9025\n",
      "Epoch 48/50\n",
      "68/68 [==============================] - 37s 542ms/step - loss: 0.1819 - accuracy: 0.9213 - val_loss: 0.3399 - val_accuracy: 0.8747\n",
      "Epoch 49/50\n",
      "68/68 [==============================] - 37s 540ms/step - loss: 0.2127 - accuracy: 0.8993 - val_loss: 0.2805 - val_accuracy: 0.8858\n",
      "Epoch 50/50\n",
      "68/68 [==============================] - 39s 569ms/step - loss: 0.1818 - accuracy: 0.9319 - val_loss: 0.2180 - val_accuracy: 0.9053\n"
     ]
    }
   ],
   "source": [
    "history = model.fit_generator(train_generator,\n",
    "                             steps_per_epoch = steps_per_epoch,\n",
    "                             epochs = 50,\n",
    "                             validation_data = validation_generator,\n",
    "                             validation_steps = validation_steps,\n",
    "                             callbacks = [checkpoint, earlyStopping])"
   ]
  },
  {
   "cell_type": "markdown",
   "metadata": {},
   "source": [
    "# Saving the model"
   ]
  },
  {
   "cell_type": "code",
   "execution_count": 25,
   "metadata": {},
   "outputs": [],
   "source": [
    "model_json = model.to_json()\n",
    "\n",
    "with open(\"meningioma_tumor.json\", \"w\") as json_file :\n",
    "    json_file.write(model_json)"
   ]
  },
  {
   "cell_type": "markdown",
   "metadata": {},
   "source": [
    "# Visualizing the Training Performance"
   ]
  },
  {
   "cell_type": "code",
   "execution_count": 26,
   "metadata": {},
   "outputs": [
    {
     "data": {
      "image/png": "[encoded data removed]",
      "text/plain": [
       "<Figure size 864x864 with 2 Axes>"
      ]
     },
     "metadata": {
      "needs_background": "light"
     },
     "output_type": "display_data"
    }
   ],
   "source": [
    "plt.figure(figsize = (12, 12))\n",
    "\n",
    "plt.subplot(2, 2, 1)\n",
    "plt.plot(history.history[\"accuracy\"], label = \"accuracy\")\n",
    "plt.plot(history.history[\"val_accuracy\"], label = \"val_accuracy\")\n",
    "plt.legend()\n",
    "plt.grid()\n",
    "plt.title(\"Accuracy Evaluation\")\n",
    "\n",
    "plt.subplot(2, 2, 2)\n",
    "plt.plot(history.history[\"loss\"], label = \"loss\")\n",
    "plt.plot(history.history[\"val_loss\"], label = \"val_loss\")\n",
    "plt.grid()\n",
    "plt.legend()\n",
    "plt.title(\"Loss Evaluation\")\n",
    "\n",
    "plt.savefig(\"Meningioma_Tumor_model_history.jpg\")"
   ]
  },
  {
   "cell_type": "markdown",
   "metadata": {},
   "source": [
    "# Getting the accuracy for test set"
   ]
  },
  {
   "cell_type": "code",
   "execution_count": 27,
   "metadata": {},
   "outputs": [
    {
     "name": "stdout",
     "output_type": "stream",
     "text": [
      "23/23 [==============================] - 3s 140ms/step - loss: 0.2180 - accuracy: 0.9053\n",
      "[0.2180231660604477, 0.9052924513816833]\n"
     ]
    }
   ],
   "source": [
    "test_accuracy = model.evaluate(validation_generator)\n",
    "print(test_accuracy)"
   ]
  },
  {
   "cell_type": "code",
   "execution_count": 30,
   "metadata": {},
   "outputs": [
    {
     "name": "stdout",
     "output_type": "stream",
     "text": [
      "23/23 [==============================] - 3s 107ms/step\n"
     ]
    },
    {
     "data": {
      "text/plain": [
       "array([[1.30850324e-07],\n",
       "       [8.22963834e-01],\n",
       "       [1.21147037e-02],\n",
       "       [3.34179401e-03],\n",
       "       [1.24523938e-02],\n",
       "       [1.43436968e-01],\n",
       "       [5.23262097e-05],\n",
       "       [9.35532808e-01],\n",
       "       [9.99949932e-01],\n",
       "       [3.08306217e-02],\n",
       "       [4.13498282e-03],\n",
       "       [1.87920094e-01],\n",
       "       [1.21046373e-08],\n",
       "       [3.04341316e-04],\n",
       "       [9.94010329e-01],\n",
       "       [9.60211039e-01],\n",
       "       [4.13770213e-05],\n",
       "       [4.28110361e-03],\n",
       "       [8.43219340e-01],\n",
       "       [1.30803883e-02],\n",
       "       [9.97568488e-01],\n",
       "       [1.42091513e-03],\n",
       "       [1.09630823e-02],\n",
       "       [8.61089468e-01],\n",
       "       [9.88224506e-01],\n",
       "       [8.08900058e-01],\n",
       "       [5.14478266e-01],\n",
       "       [8.14493537e-01],\n",
       "       [9.61783528e-03],\n",
       "       [9.99997020e-01],\n",
       "       [3.07604671e-03],\n",
       "       [1.37016028e-01],\n",
       "       [9.82085347e-01],\n",
       "       [1.00000000e+00],\n",
       "       [3.55562568e-03],\n",
       "       [1.47849321e-04],\n",
       "       [4.34940966e-06],\n",
       "       [1.27987032e-05],\n",
       "       [1.45896286e-01],\n",
       "       [2.98523486e-01],\n",
       "       [2.43181148e-06],\n",
       "       [5.61868637e-06],\n",
       "       [9.31397021e-01],\n",
       "       [6.80727510e-07],\n",
       "       [5.15237844e-06],\n",
       "       [6.69691781e-06],\n",
       "       [6.25980902e-05],\n",
       "       [2.88658202e-01],\n",
       "       [6.74119860e-07],\n",
       "       [8.26067924e-02],\n",
       "       [3.38786960e-01],\n",
       "       [3.26074633e-06],\n",
       "       [1.17237178e-04],\n",
       "       [9.17830706e-01],\n",
       "       [9.88224506e-01],\n",
       "       [1.97877318e-01],\n",
       "       [7.04403222e-02],\n",
       "       [1.16544664e-02],\n",
       "       [3.89599800e-03],\n",
       "       [4.68996167e-01],\n",
       "       [4.76973355e-02],\n",
       "       [4.50812399e-01],\n",
       "       [1.29639102e-06],\n",
       "       [9.99061763e-01],\n",
       "       [1.23023987e-02],\n",
       "       [1.90203786e-02],\n",
       "       [9.82417941e-01],\n",
       "       [1.55746911e-05],\n",
       "       [6.60926104e-04],\n",
       "       [3.01188231e-03],\n",
       "       [1.34951472e-02],\n",
       "       [3.80489230e-03],\n",
       "       [9.42444742e-01],\n",
       "       [9.34165835e-01],\n",
       "       [9.99268413e-01],\n",
       "       [9.60211039e-01],\n",
       "       [7.56348356e-07],\n",
       "       [5.36188483e-03],\n",
       "       [9.98691857e-01],\n",
       "       [9.83461022e-01],\n",
       "       [5.87255538e-01],\n",
       "       [2.21529603e-03],\n",
       "       [9.87668395e-01],\n",
       "       [9.58855748e-01],\n",
       "       [9.08458233e-03],\n",
       "       [5.48047900e-01],\n",
       "       [4.54548299e-02],\n",
       "       [9.97545898e-01],\n",
       "       [7.46673832e-05],\n",
       "       [1.78035498e-02],\n",
       "       [6.67636395e-01],\n",
       "       [1.67492688e-01],\n",
       "       [8.79466057e-01],\n",
       "       [7.17527866e-02],\n",
       "       [3.74627113e-03],\n",
       "       [6.75669071e-05],\n",
       "       [3.80920142e-01],\n",
       "       [3.95850975e-06],\n",
       "       [8.73059034e-04],\n",
       "       [2.57164240e-04],\n",
       "       [6.53065015e-08],\n",
       "       [5.87255538e-01],\n",
       "       [6.48626387e-01],\n",
       "       [1.14462852e-01],\n",
       "       [9.98103738e-01],\n",
       "       [2.86513567e-03],\n",
       "       [9.88768458e-01],\n",
       "       [4.79769707e-03],\n",
       "       [2.10125148e-02],\n",
       "       [9.99473691e-01],\n",
       "       [9.97069657e-01],\n",
       "       [6.94647014e-01],\n",
       "       [3.06085348e-02],\n",
       "       [3.30941379e-02],\n",
       "       [9.87077177e-01],\n",
       "       [1.18456064e-05],\n",
       "       [8.51572871e-01],\n",
       "       [3.04306149e-01],\n",
       "       [3.91389949e-06],\n",
       "       [4.57591414e-02],\n",
       "       [6.79113388e-01],\n",
       "       [2.22019047e-01],\n",
       "       [8.08348596e-01],\n",
       "       [1.07249618e-02],\n",
       "       [3.04218447e-05],\n",
       "       [8.43189478e-01],\n",
       "       [6.46810770e-01],\n",
       "       [9.88224506e-01],\n",
       "       [8.26067924e-02],\n",
       "       [4.15620208e-03],\n",
       "       [2.58359015e-01],\n",
       "       [2.56281495e-02],\n",
       "       [5.01624048e-02],\n",
       "       [9.99821186e-01],\n",
       "       [1.30803883e-02],\n",
       "       [8.08900058e-01],\n",
       "       [1.29963917e-06],\n",
       "       [3.69580507e-01],\n",
       "       [9.49860811e-02],\n",
       "       [7.54062414e-01],\n",
       "       [1.98144227e-01],\n",
       "       [3.97764862e-01],\n",
       "       [6.46810770e-01],\n",
       "       [2.80686617e-02],\n",
       "       [9.99979436e-01],\n",
       "       [4.26531471e-07],\n",
       "       [4.24540639e-02],\n",
       "       [9.98735547e-01],\n",
       "       [2.71473408e-01],\n",
       "       [4.28776247e-07],\n",
       "       [6.16722107e-02],\n",
       "       [1.93419456e-02],\n",
       "       [8.20653796e-01],\n",
       "       [9.99838531e-01],\n",
       "       [5.49241690e-07],\n",
       "       [9.60211039e-01],\n",
       "       [7.06773698e-02],\n",
       "       [4.02692365e-07],\n",
       "       [2.42061719e-06],\n",
       "       [2.08303869e-01],\n",
       "       [1.66899895e-06],\n",
       "       [1.39355659e-04],\n",
       "       [9.80836451e-01],\n",
       "       [8.19682479e-01],\n",
       "       [2.79963017e-04],\n",
       "       [9.91596222e-01],\n",
       "       [7.62996316e-01],\n",
       "       [1.50316237e-05],\n",
       "       [2.53396273e-01],\n",
       "       [7.76715297e-06],\n",
       "       [2.04628259e-01],\n",
       "       [2.66655684e-06],\n",
       "       [5.85130394e-01],\n",
       "       [2.59586871e-02],\n",
       "       [7.12185502e-02],\n",
       "       [8.50755632e-01],\n",
       "       [6.86478870e-07],\n",
       "       [3.94270122e-02],\n",
       "       [6.36030972e-01],\n",
       "       [3.40214372e-03],\n",
       "       [1.46654308e-01],\n",
       "       [1.96012855e-03],\n",
       "       [1.54526621e-01],\n",
       "       [9.83001351e-01],\n",
       "       [1.12614089e-05],\n",
       "       [9.13709998e-01],\n",
       "       [6.26645684e-02],\n",
       "       [3.06097567e-02],\n",
       "       [8.59433055e-01],\n",
       "       [1.43903255e-01],\n",
       "       [3.66519630e-01],\n",
       "       [2.87706852e-02],\n",
       "       [7.19929338e-01],\n",
       "       [3.93127590e-01],\n",
       "       [2.40403712e-02],\n",
       "       [6.80450022e-01],\n",
       "       [6.79859519e-03],\n",
       "       [5.09545207e-03],\n",
       "       [1.39078736e-06],\n",
       "       [8.43020678e-02],\n",
       "       [1.33551694e-05],\n",
       "       [9.12284255e-02],\n",
       "       [2.88396180e-02],\n",
       "       [1.22245282e-01],\n",
       "       [3.99959087e-03],\n",
       "       [9.99268413e-01],\n",
       "       [1.11879408e-02],\n",
       "       [2.84171051e-07],\n",
       "       [4.44554090e-02],\n",
       "       [2.04628259e-01],\n",
       "       [3.90452147e-03],\n",
       "       [8.89880266e-06],\n",
       "       [2.82606383e-08],\n",
       "       [3.20608735e-01],\n",
       "       [9.89288092e-01],\n",
       "       [2.04419024e-08],\n",
       "       [7.78473918e-07],\n",
       "       [4.34331887e-05],\n",
       "       [2.64668506e-05],\n",
       "       [6.49136305e-03],\n",
       "       [4.38933671e-02],\n",
       "       [3.80279839e-01],\n",
       "       [9.98762071e-01],\n",
       "       [4.27096865e-07],\n",
       "       [1.42627358e-02],\n",
       "       [3.49973295e-09],\n",
       "       [2.02112913e-01],\n",
       "       [9.38118219e-01],\n",
       "       [2.03062057e-01],\n",
       "       [1.25414729e-02],\n",
       "       [9.98546302e-01],\n",
       "       [8.91703606e-01],\n",
       "       [1.52317405e-01],\n",
       "       [2.62302160e-03],\n",
       "       [4.13447618e-02],\n",
       "       [6.36544824e-03],\n",
       "       [9.95725989e-01],\n",
       "       [8.43626261e-02],\n",
       "       [9.98402715e-01],\n",
       "       [1.75073787e-08],\n",
       "       [9.99890387e-01],\n",
       "       [1.15076500e-05],\n",
       "       [9.87668395e-01],\n",
       "       [4.93756831e-01],\n",
       "       [1.36489616e-05],\n",
       "       [9.81628895e-04],\n",
       "       [8.69775295e-01],\n",
       "       [1.06195509e-02],\n",
       "       [2.40198851e-01],\n",
       "       [8.10868173e-08],\n",
       "       [1.88813865e-01],\n",
       "       [3.15827710e-05],\n",
       "       [3.33186449e-06],\n",
       "       [7.15124770e-06],\n",
       "       [7.06704350e-06],\n",
       "       [3.20971012e-04],\n",
       "       [1.25790029e-05],\n",
       "       [9.04892445e-01],\n",
       "       [4.55483729e-07],\n",
       "       [2.54840076e-01],\n",
       "       [9.90321755e-01],\n",
       "       [1.80339487e-06],\n",
       "       [2.24551558e-02],\n",
       "       [1.21084064e-01],\n",
       "       [9.92033720e-01],\n",
       "       [4.53389585e-01],\n",
       "       [1.18469114e-04],\n",
       "       [9.55046773e-01],\n",
       "       [1.00791454e-03],\n",
       "       [2.32845545e-04],\n",
       "       [9.04014170e-01],\n",
       "       [1.37016028e-01],\n",
       "       [1.28179789e-04],\n",
       "       [2.58673251e-01],\n",
       "       [9.75095809e-01],\n",
       "       [1.45959854e-03],\n",
       "       [4.17078854e-06],\n",
       "       [5.25625050e-01],\n",
       "       [8.63604307e-01],\n",
       "       [1.36082590e-01],\n",
       "       [2.18074024e-02],\n",
       "       [4.26789224e-02],\n",
       "       [9.85102534e-01],\n",
       "       [9.88224506e-01],\n",
       "       [1.16971135e-03],\n",
       "       [1.34676695e-04],\n",
       "       [2.11716809e-07],\n",
       "       [6.91443682e-04],\n",
       "       [2.32899183e-05],\n",
       "       [9.98735547e-01],\n",
       "       [1.33834481e-02],\n",
       "       [8.53228450e-01],\n",
       "       [3.64173770e-01],\n",
       "       [6.84285164e-03],\n",
       "       [3.02791715e-01],\n",
       "       [9.91457343e-01],\n",
       "       [1.91025194e-07],\n",
       "       [2.32692798e-08],\n",
       "       [9.98103738e-01],\n",
       "       [9.94620562e-01],\n",
       "       [1.36562288e-02],\n",
       "       [1.24840044e-05],\n",
       "       [5.54861326e-05],\n",
       "       [8.79466057e-01],\n",
       "       [1.08025968e-02],\n",
       "       [2.10335338e-06],\n",
       "       [1.78116721e-07],\n",
       "       [7.80348480e-02],\n",
       "       [9.81408358e-03],\n",
       "       [6.10681057e-01],\n",
       "       [1.68399572e-01],\n",
       "       [2.85297930e-02],\n",
       "       [1.85638666e-04],\n",
       "       [3.56408954e-01],\n",
       "       [7.70724177e-01],\n",
       "       [4.84440476e-01],\n",
       "       [2.20727742e-01],\n",
       "       [1.82717472e-01],\n",
       "       [9.96231318e-01],\n",
       "       [7.69561529e-02],\n",
       "       [2.69730744e-08],\n",
       "       [1.31842526e-07],\n",
       "       [9.60211039e-01],\n",
       "       [4.89404500e-02],\n",
       "       [1.00000000e+00],\n",
       "       [6.06513321e-02],\n",
       "       [1.52932856e-07],\n",
       "       [1.04291306e-04],\n",
       "       [1.41963767e-06],\n",
       "       [2.40074396e-02],\n",
       "       [9.88224506e-01],\n",
       "       [9.99774218e-01],\n",
       "       [9.60211039e-01],\n",
       "       [1.26957893e-04],\n",
       "       [1.27526641e-01],\n",
       "       [3.31748962e-01],\n",
       "       [3.93127590e-01],\n",
       "       [8.83674622e-03],\n",
       "       [6.19824767e-01],\n",
       "       [6.17520811e-07],\n",
       "       [1.00565721e-05],\n",
       "       [1.99803793e-07],\n",
       "       [6.88976049e-03],\n",
       "       [8.78473802e-05],\n",
       "       [2.56281495e-02],\n",
       "       [3.46096396e-01],\n",
       "       [9.16129649e-01],\n",
       "       [2.07844079e-02],\n",
       "       [9.14732575e-01],\n",
       "       [8.03955495e-02],\n",
       "       [8.71003866e-01],\n",
       "       [9.31397021e-01],\n",
       "       [8.60922933e-01],\n",
       "       [9.87999201e-01],\n",
       "       [2.66527146e-01],\n",
       "       [3.97467613e-01],\n",
       "       [2.68311143e-01],\n",
       "       [6.50947511e-01],\n",
       "       [1.03960037e-02]], dtype=float32)"
      ]
     },
     "execution_count": 30,
     "metadata": {},
     "output_type": "execute_result"
    }
   ],
   "source": [
    "preds = model.predict(validation_generator, verbose=1)\n",
    "preds"
   ]
  },
  {
   "cell_type": "code",
   "execution_count": 31,
   "metadata": {},
   "outputs": [
    {
     "name": "stdout",
     "output_type": "stream",
     "text": [
      "[[0.]\n",
      " [1.]\n",
      " [0.]\n",
      " [0.]\n",
      " [0.]\n",
      " [0.]\n",
      " [0.]\n",
      " [1.]\n",
      " [1.]\n",
      " [0.]\n",
      " [0.]\n",
      " [0.]\n",
      " [0.]\n",
      " [0.]\n",
      " [1.]\n",
      " [1.]\n",
      " [0.]\n",
      " [0.]\n",
      " [1.]\n",
      " [0.]\n",
      " [1.]\n",
      " [0.]\n",
      " [0.]\n",
      " [1.]\n",
      " [1.]\n",
      " [1.]\n",
      " [1.]\n",
      " [1.]\n",
      " [0.]\n",
      " [1.]\n",
      " [0.]\n",
      " [0.]\n",
      " [1.]\n",
      " [1.]\n",
      " [0.]\n",
      " [0.]\n",
      " [0.]\n",
      " [0.]\n",
      " [0.]\n",
      " [0.]\n",
      " [0.]\n",
      " [0.]\n",
      " [1.]\n",
      " [0.]\n",
      " [0.]\n",
      " [0.]\n",
      " [0.]\n",
      " [0.]\n",
      " [0.]\n",
      " [0.]\n",
      " [0.]\n",
      " [0.]\n",
      " [0.]\n",
      " [1.]\n",
      " [1.]\n",
      " [0.]\n",
      " [0.]\n",
      " [0.]\n",
      " [0.]\n",
      " [0.]\n",
      " [0.]\n",
      " [0.]\n",
      " [0.]\n",
      " [1.]\n",
      " [0.]\n",
      " [0.]\n",
      " [1.]\n",
      " [0.]\n",
      " [0.]\n",
      " [0.]\n",
      " [0.]\n",
      " [0.]\n",
      " [1.]\n",
      " [1.]\n",
      " [1.]\n",
      " [1.]\n",
      " [0.]\n",
      " [0.]\n",
      " [1.]\n",
      " [1.]\n",
      " [1.]\n",
      " [0.]\n",
      " [1.]\n",
      " [1.]\n",
      " [0.]\n",
      " [1.]\n",
      " [0.]\n",
      " [1.]\n",
      " [0.]\n",
      " [0.]\n",
      " [1.]\n",
      " [0.]\n",
      " [1.]\n",
      " [0.]\n",
      " [0.]\n",
      " [0.]\n",
      " [0.]\n",
      " [0.]\n",
      " [0.]\n",
      " [0.]\n",
      " [0.]\n",
      " [1.]\n",
      " [1.]\n",
      " [0.]\n",
      " [1.]\n",
      " [0.]\n",
      " [1.]\n",
      " [0.]\n",
      " [0.]\n",
      " [1.]\n",
      " [1.]\n",
      " [1.]\n",
      " [0.]\n",
      " [0.]\n",
      " [1.]\n",
      " [0.]\n",
      " [1.]\n",
      " [0.]\n",
      " [0.]\n",
      " [0.]\n",
      " [1.]\n",
      " [0.]\n",
      " [1.]\n",
      " [0.]\n",
      " [0.]\n",
      " [1.]\n",
      " [1.]\n",
      " [1.]\n",
      " [0.]\n",
      " [0.]\n",
      " [0.]\n",
      " [0.]\n",
      " [0.]\n",
      " [1.]\n",
      " [0.]\n",
      " [1.]\n",
      " [0.]\n",
      " [0.]\n",
      " [0.]\n",
      " [1.]\n",
      " [0.]\n",
      " [0.]\n",
      " [1.]\n",
      " [0.]\n",
      " [1.]\n",
      " [0.]\n",
      " [0.]\n",
      " [1.]\n",
      " [0.]\n",
      " [0.]\n",
      " [0.]\n",
      " [0.]\n",
      " [1.]\n",
      " [1.]\n",
      " [0.]\n",
      " [1.]\n",
      " [0.]\n",
      " [0.]\n",
      " [0.]\n",
      " [0.]\n",
      " [0.]\n",
      " [0.]\n",
      " [1.]\n",
      " [1.]\n",
      " [0.]\n",
      " [1.]\n",
      " [1.]\n",
      " [0.]\n",
      " [0.]\n",
      " [0.]\n",
      " [0.]\n",
      " [0.]\n",
      " [1.]\n",
      " [0.]\n",
      " [0.]\n",
      " [1.]\n",
      " [0.]\n",
      " [0.]\n",
      " [1.]\n",
      " [0.]\n",
      " [0.]\n",
      " [0.]\n",
      " [0.]\n",
      " [1.]\n",
      " [0.]\n",
      " [1.]\n",
      " [0.]\n",
      " [0.]\n",
      " [1.]\n",
      " [0.]\n",
      " [0.]\n",
      " [0.]\n",
      " [1.]\n",
      " [0.]\n",
      " [0.]\n",
      " [1.]\n",
      " [0.]\n",
      " [0.]\n",
      " [0.]\n",
      " [0.]\n",
      " [0.]\n",
      " [0.]\n",
      " [0.]\n",
      " [0.]\n",
      " [0.]\n",
      " [1.]\n",
      " [0.]\n",
      " [0.]\n",
      " [0.]\n",
      " [0.]\n",
      " [0.]\n",
      " [0.]\n",
      " [0.]\n",
      " [0.]\n",
      " [1.]\n",
      " [0.]\n",
      " [0.]\n",
      " [0.]\n",
      " [0.]\n",
      " [0.]\n",
      " [0.]\n",
      " [0.]\n",
      " [1.]\n",
      " [0.]\n",
      " [0.]\n",
      " [0.]\n",
      " [0.]\n",
      " [1.]\n",
      " [0.]\n",
      " [0.]\n",
      " [1.]\n",
      " [1.]\n",
      " [0.]\n",
      " [0.]\n",
      " [0.]\n",
      " [0.]\n",
      " [1.]\n",
      " [0.]\n",
      " [1.]\n",
      " [0.]\n",
      " [1.]\n",
      " [0.]\n",
      " [1.]\n",
      " [0.]\n",
      " [0.]\n",
      " [0.]\n",
      " [1.]\n",
      " [0.]\n",
      " [0.]\n",
      " [0.]\n",
      " [0.]\n",
      " [0.]\n",
      " [0.]\n",
      " [0.]\n",
      " [0.]\n",
      " [0.]\n",
      " [0.]\n",
      " [1.]\n",
      " [0.]\n",
      " [0.]\n",
      " [1.]\n",
      " [0.]\n",
      " [0.]\n",
      " [0.]\n",
      " [1.]\n",
      " [0.]\n",
      " [0.]\n",
      " [1.]\n",
      " [0.]\n",
      " [0.]\n",
      " [1.]\n",
      " [0.]\n",
      " [0.]\n",
      " [0.]\n",
      " [1.]\n",
      " [0.]\n",
      " [0.]\n",
      " [1.]\n",
      " [1.]\n",
      " [0.]\n",
      " [0.]\n",
      " [0.]\n",
      " [1.]\n",
      " [1.]\n",
      " [0.]\n",
      " [0.]\n",
      " [0.]\n",
      " [0.]\n",
      " [0.]\n",
      " [1.]\n",
      " [0.]\n",
      " [1.]\n",
      " [0.]\n",
      " [0.]\n",
      " [0.]\n",
      " [1.]\n",
      " [0.]\n",
      " [0.]\n",
      " [1.]\n",
      " [1.]\n",
      " [0.]\n",
      " [0.]\n",
      " [0.]\n",
      " [1.]\n",
      " [0.]\n",
      " [0.]\n",
      " [0.]\n",
      " [0.]\n",
      " [0.]\n",
      " [1.]\n",
      " [0.]\n",
      " [0.]\n",
      " [0.]\n",
      " [0.]\n",
      " [1.]\n",
      " [0.]\n",
      " [0.]\n",
      " [0.]\n",
      " [1.]\n",
      " [0.]\n",
      " [0.]\n",
      " [0.]\n",
      " [1.]\n",
      " [0.]\n",
      " [1.]\n",
      " [0.]\n",
      " [0.]\n",
      " [0.]\n",
      " [0.]\n",
      " [0.]\n",
      " [1.]\n",
      " [1.]\n",
      " [1.]\n",
      " [0.]\n",
      " [0.]\n",
      " [0.]\n",
      " [0.]\n",
      " [0.]\n",
      " [1.]\n",
      " [0.]\n",
      " [0.]\n",
      " [0.]\n",
      " [0.]\n",
      " [0.]\n",
      " [0.]\n",
      " [0.]\n",
      " [1.]\n",
      " [0.]\n",
      " [1.]\n",
      " [0.]\n",
      " [1.]\n",
      " [1.]\n",
      " [1.]\n",
      " [1.]\n",
      " [0.]\n",
      " [0.]\n",
      " [0.]\n",
      " [1.]\n",
      " [0.]]\n"
     ]
    }
   ],
   "source": [
    "predictions = preds.copy()\n",
    "predictions[predictions <= 0.5] = 0\n",
    "predictions[predictions > 0.5] = 1\n",
    "\n",
    "print(predictions)"
   ]
  },
  {
   "cell_type": "code",
   "execution_count": null,
   "metadata": {},
   "outputs": [],
   "source": []
  }
 ],
 "metadata": {
  "kernelspec": {
   "display_name": "Python 3",
   "language": "python",
   "name": "python3"
  },
  "language_info": {
   "codemirror_mode": {
    "name": "ipython",
    "version": 3
   },
   "file_extension": ".py",
   "mimetype": "text/x-python",
   "name": "python",
   "nbconvert_exporter": "python",
   "pygments_lexer": "ipython3",
   "version": "3.8.5"
  }
 },
 "nbformat": 4,
 "nbformat_minor": 4
}
